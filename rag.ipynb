{
 "cells": [
  {
   "cell_type": "code",
   "execution_count": 31,
   "id": "034ffaf9",
   "metadata": {},
   "outputs": [
    {
     "name": "stdout",
     "output_type": "stream",
     "text": [
      "Requirement already satisfied: ollama in /Users/lablnet/miniconda3/envs/stat/lib/python3.12/site-packages (0.5.3)\n",
      "Requirement already satisfied: PyMuPDF in /Users/lablnet/miniconda3/envs/stat/lib/python3.12/site-packages (1.26.4)\n",
      "Requirement already satisfied: langchain in /Users/lablnet/miniconda3/envs/stat/lib/python3.12/site-packages (0.3.26)\n",
      "Requirement already satisfied: langchain-community in /Users/lablnet/miniconda3/envs/stat/lib/python3.12/site-packages (0.3.26)\n",
      "Requirement already satisfied: scikit-learn in /Users/lablnet/miniconda3/envs/stat/lib/python3.12/site-packages (1.5.2)\n",
      "Requirement already satisfied: httpx>=0.27 in /Users/lablnet/miniconda3/envs/stat/lib/python3.12/site-packages (from ollama) (0.28.1)\n",
      "Requirement already satisfied: pydantic>=2.9 in /Users/lablnet/miniconda3/envs/stat/lib/python3.12/site-packages (from ollama) (2.11.7)\n",
      "Requirement already satisfied: langchain-core<1.0.0,>=0.3.66 in /Users/lablnet/miniconda3/envs/stat/lib/python3.12/site-packages (from langchain) (0.3.76)\n",
      "Requirement already satisfied: langchain-text-splitters<1.0.0,>=0.3.8 in /Users/lablnet/miniconda3/envs/stat/lib/python3.12/site-packages (from langchain) (0.3.9)\n",
      "Requirement already satisfied: langsmith>=0.1.17 in /Users/lablnet/miniconda3/envs/stat/lib/python3.12/site-packages (from langchain) (0.4.10)\n",
      "Requirement already satisfied: SQLAlchemy<3,>=1.4 in /Users/lablnet/miniconda3/envs/stat/lib/python3.12/site-packages (from langchain) (2.0.38)\n",
      "Requirement already satisfied: requests<3,>=2 in /Users/lablnet/miniconda3/envs/stat/lib/python3.12/site-packages (from langchain) (2.32.5)\n",
      "Requirement already satisfied: PyYAML>=5.3 in /Users/lablnet/miniconda3/envs/stat/lib/python3.12/site-packages (from langchain) (6.0.2)\n",
      "Requirement already satisfied: aiohttp<4.0.0,>=3.8.3 in /Users/lablnet/miniconda3/envs/stat/lib/python3.12/site-packages (from langchain-community) (3.11.11)\n",
      "Requirement already satisfied: tenacity!=8.4.0,<10,>=8.1.0 in /Users/lablnet/miniconda3/envs/stat/lib/python3.12/site-packages (from langchain-community) (9.1.2)\n",
      "Requirement already satisfied: dataclasses-json<0.7,>=0.5.7 in /Users/lablnet/miniconda3/envs/stat/lib/python3.12/site-packages (from langchain-community) (0.6.7)\n",
      "Requirement already satisfied: pydantic-settings<3.0.0,>=2.4.0 in /Users/lablnet/miniconda3/envs/stat/lib/python3.12/site-packages (from langchain-community) (2.10.1)\n",
      "Requirement already satisfied: httpx-sse<1.0.0,>=0.4.0 in /Users/lablnet/miniconda3/envs/stat/lib/python3.12/site-packages (from langchain-community) (0.4.1)\n",
      "Requirement already satisfied: numpy>=1.26.2 in /Users/lablnet/miniconda3/envs/stat/lib/python3.12/site-packages (from langchain-community) (1.26.4)\n",
      "Requirement already satisfied: scipy>=1.6.0 in /Users/lablnet/miniconda3/envs/stat/lib/python3.12/site-packages (from scikit-learn) (1.14.1)\n",
      "Requirement already satisfied: joblib>=1.2.0 in /Users/lablnet/miniconda3/envs/stat/lib/python3.12/site-packages (from scikit-learn) (1.4.2)\n",
      "Requirement already satisfied: threadpoolctl>=3.1.0 in /Users/lablnet/miniconda3/envs/stat/lib/python3.12/site-packages (from scikit-learn) (3.5.0)\n",
      "Requirement already satisfied: aiohappyeyeballs>=2.3.0 in /Users/lablnet/miniconda3/envs/stat/lib/python3.12/site-packages (from aiohttp<4.0.0,>=3.8.3->langchain-community) (2.6.1)\n",
      "Requirement already satisfied: aiosignal>=1.1.2 in /Users/lablnet/miniconda3/envs/stat/lib/python3.12/site-packages (from aiohttp<4.0.0,>=3.8.3->langchain-community) (1.4.0)\n",
      "Requirement already satisfied: attrs>=17.3.0 in /Users/lablnet/miniconda3/envs/stat/lib/python3.12/site-packages (from aiohttp<4.0.0,>=3.8.3->langchain-community) (25.3.0)\n",
      "Requirement already satisfied: frozenlist>=1.1.1 in /Users/lablnet/miniconda3/envs/stat/lib/python3.12/site-packages (from aiohttp<4.0.0,>=3.8.3->langchain-community) (1.7.0)\n",
      "Requirement already satisfied: multidict<7.0,>=4.5 in /Users/lablnet/miniconda3/envs/stat/lib/python3.12/site-packages (from aiohttp<4.0.0,>=3.8.3->langchain-community) (6.6.3)\n",
      "Requirement already satisfied: propcache>=0.2.0 in /Users/lablnet/miniconda3/envs/stat/lib/python3.12/site-packages (from aiohttp<4.0.0,>=3.8.3->langchain-community) (0.3.2)\n",
      "Requirement already satisfied: yarl<2.0,>=1.17.0 in /Users/lablnet/miniconda3/envs/stat/lib/python3.12/site-packages (from aiohttp<4.0.0,>=3.8.3->langchain-community) (1.20.1)\n",
      "Requirement already satisfied: marshmallow<4.0.0,>=3.18.0 in /Users/lablnet/miniconda3/envs/stat/lib/python3.12/site-packages (from dataclasses-json<0.7,>=0.5.7->langchain-community) (3.26.1)\n",
      "Requirement already satisfied: typing-inspect<1,>=0.4.0 in /Users/lablnet/miniconda3/envs/stat/lib/python3.12/site-packages (from dataclasses-json<0.7,>=0.5.7->langchain-community) (0.9.0)\n",
      "Requirement already satisfied: anyio in /Users/lablnet/miniconda3/envs/stat/lib/python3.12/site-packages (from httpx>=0.27->ollama) (4.9.0)\n",
      "Requirement already satisfied: certifi in /Users/lablnet/miniconda3/envs/stat/lib/python3.12/site-packages (from httpx>=0.27->ollama) (2025.7.14)\n",
      "Requirement already satisfied: httpcore==1.* in /Users/lablnet/miniconda3/envs/stat/lib/python3.12/site-packages (from httpx>=0.27->ollama) (1.0.9)\n",
      "Requirement already satisfied: idna in /Users/lablnet/miniconda3/envs/stat/lib/python3.12/site-packages (from httpx>=0.27->ollama) (3.10)\n",
      "Requirement already satisfied: h11>=0.16 in /Users/lablnet/miniconda3/envs/stat/lib/python3.12/site-packages (from httpcore==1.*->httpx>=0.27->ollama) (0.16.0)\n",
      "Requirement already satisfied: jsonpatch<2.0,>=1.33 in /Users/lablnet/miniconda3/envs/stat/lib/python3.12/site-packages (from langchain-core<1.0.0,>=0.3.66->langchain) (1.33)\n",
      "Requirement already satisfied: typing-extensions>=4.7 in /Users/lablnet/miniconda3/envs/stat/lib/python3.12/site-packages (from langchain-core<1.0.0,>=0.3.66->langchain) (4.12.2)\n",
      "Requirement already satisfied: packaging>=23.2 in /Users/lablnet/miniconda3/envs/stat/lib/python3.12/site-packages (from langchain-core<1.0.0,>=0.3.66->langchain) (23.2)\n",
      "Requirement already satisfied: orjson>=3.9.14 in /Users/lablnet/miniconda3/envs/stat/lib/python3.12/site-packages (from langsmith>=0.1.17->langchain) (3.11.1)\n",
      "Requirement already satisfied: requests-toolbelt>=1.0.0 in /Users/lablnet/miniconda3/envs/stat/lib/python3.12/site-packages (from langsmith>=0.1.17->langchain) (1.0.0)\n",
      "Requirement already satisfied: zstandard>=0.23.0 in /Users/lablnet/miniconda3/envs/stat/lib/python3.12/site-packages (from langsmith>=0.1.17->langchain) (0.23.0)\n",
      "Requirement already satisfied: annotated-types>=0.6.0 in /Users/lablnet/miniconda3/envs/stat/lib/python3.12/site-packages (from pydantic>=2.9->ollama) (0.7.0)\n",
      "Requirement already satisfied: pydantic-core==2.33.2 in /Users/lablnet/miniconda3/envs/stat/lib/python3.12/site-packages (from pydantic>=2.9->ollama) (2.33.2)\n",
      "Requirement already satisfied: typing-inspection>=0.4.0 in /Users/lablnet/miniconda3/envs/stat/lib/python3.12/site-packages (from pydantic>=2.9->ollama) (0.4.1)\n",
      "Requirement already satisfied: python-dotenv>=0.21.0 in /Users/lablnet/miniconda3/envs/stat/lib/python3.12/site-packages (from pydantic-settings<3.0.0,>=2.4.0->langchain-community) (1.1.1)\n",
      "Requirement already satisfied: charset_normalizer<4,>=2 in /Users/lablnet/miniconda3/envs/stat/lib/python3.12/site-packages (from requests<3,>=2->langchain) (3.4.2)\n",
      "Requirement already satisfied: urllib3<3,>=1.21.1 in /Users/lablnet/miniconda3/envs/stat/lib/python3.12/site-packages (from requests<3,>=2->langchain) (2.5.0)\n",
      "Requirement already satisfied: jsonpointer>=1.9 in /Users/lablnet/miniconda3/envs/stat/lib/python3.12/site-packages (from jsonpatch<2.0,>=1.33->langchain-core<1.0.0,>=0.3.66->langchain) (3.0.0)\n",
      "Requirement already satisfied: mypy-extensions>=0.3.0 in /Users/lablnet/miniconda3/envs/stat/lib/python3.12/site-packages (from typing-inspect<1,>=0.4.0->dataclasses-json<0.7,>=0.5.7->langchain-community) (1.1.0)\n",
      "Requirement already satisfied: sniffio>=1.1 in /Users/lablnet/miniconda3/envs/stat/lib/python3.12/site-packages (from anyio->httpx>=0.27->ollama) (1.3.1)\n",
      "Note: you may need to restart the kernel to use updated packages.\n"
     ]
    }
   ],
   "source": [
    "%pip install ollama PyMuPDF langchain langchain-community scikit-learn"
   ]
  },
  {
   "cell_type": "code",
   "execution_count": null,
   "id": "1fc2df77",
   "metadata": {},
   "outputs": [],
   "source": [
    "# Import the classes from the rag.py file\n",
    "from rag import SimplePDFProcessor, IntelligentTextSplitter, OllamaEmbeddingGenerator, SimpleVectorSearch"
   ]
  },
  {
   "cell_type": "code",
   "execution_count": null,
   "id": "266e426a",
   "metadata": {},
   "outputs": [
    {
     "name": "stdout",
     "output_type": "stream",
     "text": [
      "📄 PDF Processor initialized!\n"
     ]
    }
   ],
   "source": [
    "# Initialize the PDF processor\n",
    "pdf_processor = SimplePDFProcessor(\"hec_outline.pdf\")\n",
    "print(\"📄 PDF Processor initialized!\")"
   ]
  },
  {
   "cell_type": "code",
   "execution_count": 33,
   "id": "37c94cf4",
   "metadata": {},
   "outputs": [
    {
     "name": "stdout",
     "output_type": "stream",
     "text": [
      "✂️ Intelligent Text Splitter initialized!\n"
     ]
    }
   ],
   "source": [
    "# Initialize the splitter\n",
    "text_splitter = IntelligentTextSplitter(chunk_size=1000, chunk_overlap=200)\n",
    "print(\"✂️ Intelligent Text Splitter initialized!\")"
   ]
  },
  {
   "cell_type": "code",
   "execution_count": 34,
   "id": "b1328480",
   "metadata": {},
   "outputs": [
    {
     "name": "stdout",
     "output_type": "stream",
     "text": [
      "🧠 Ollama Embedding Generator initialized!\n"
     ]
    }
   ],
   "source": [
    "# Initialize the embedding generator\n",
    "embedding_generator = OllamaEmbeddingGenerator()\n",
    "print(\"🧠 Ollama Embedding Generator initialized!\")"
   ]
  },
  {
   "cell_type": "code",
   "execution_count": 35,
   "id": "96905639",
   "metadata": {},
   "outputs": [
    {
     "name": "stdout",
     "output_type": "stream",
     "text": [
      "📖 Extracting text from PDF...\n",
      "✅ Extracted 286158 characters from PDF\n",
      "📊 Text extraction summary:\n",
      "   - Raw text length: 286158 characters\n",
      "   - Cleaned text length: 273998 characters\n",
      "   - Text preview: 1 CURRICULUM OF COMPUTER SCIENCE, SOFTWARE ENGINEERING, AND INFORMATION TECHNOLOGY (Bachelors & Masters Programs) (Revised 2017) HIGHER EDUCATION COMMISSION ISLAMABAD CURRICULUM DIVISION, HEC 2 Prof. ...\n"
     ]
    }
   ],
   "source": [
    "# Step 1: Extract text from PDF\n",
    "print(\"📖 Extracting text from PDF...\")\n",
    "raw_text = pdf_processor.extract_text()\n",
    "\n",
    "# Step 2: Clean the text\n",
    "cleaned_text = pdf_processor.clean_text(raw_text)\n",
    "\n",
    "print(f\"📊 Text extraction summary:\")\n",
    "print(f\"   - Raw text length: {len(raw_text)} characters\")\n",
    "print(f\"   - Cleaned text length: {len(cleaned_text)} characters\")\n",
    "print(f\"   - Text preview: {cleaned_text[:200]}...\")\n"
   ]
  },
  {
   "cell_type": "code",
   "execution_count": 36,
   "id": "b05b4c81",
   "metadata": {},
   "outputs": [
    {
     "name": "stdout",
     "output_type": "stream",
     "text": [
      "✂️ Splitting text into semantic chunks...\n",
      "📊 Text splitting summary:\n",
      "   - Number of chunks: 381\n",
      "   - Average chunk size: 809 characters\n",
      "   - Chunk size range: 57 - 1000 characters\n",
      "\n",
      "📝 Sample chunks:\n",
      "   Chunk 1: 1 CURRICULUM OF COMPUTER SCIENCE, SOFTWARE ENGINEERING, AND INFORMATION TECHNOLOGY (Bachelors & Mast...\n",
      "   Chunk 2: . Curricula Consideration .............................................................................\n",
      "   Chunk 3: . Master Degree Programs in Computing .................................................................\n"
     ]
    }
   ],
   "source": [
    "# Step 4: Split text into intelligent chunks\n",
    "print(\"✂️ Splitting text into semantic chunks...\")\n",
    "\n",
    "# Spilt text into chunks using intelligent overlap\n",
    "chunks = text_splitter.split_with_overlap(cleaned_text)\n",
    "\n",
    "# Create documents with metadata\n",
    "documents = text_splitter.create_documents_with_metadata(chunks)\n",
    "\n",
    "print(f\"📊 Text splitting summary:\")\n",
    "print(f\"   - Number of chunks: {len(chunks)}\")\n",
    "print(f\"   - Average chunk size: {np.mean([len(chunk) for chunk in chunks]):.0f} characters\")\n",
    "print(f\"   - Chunk size range: {min([len(chunk) for chunk in chunks])} - {max([len(chunk) for chunk in chunks])} characters\")\n",
    "\n",
    "# Display first few chunks as examples\n",
    "print(f\"\\n📝 Sample chunks:\")\n",
    "for i, chunk in enumerate(chunks[:3]):\n",
    "    print(f\"   Chunk {i+1}: {chunk[:100]}...\")\n"
   ]
  },
  {
   "cell_type": "code",
   "execution_count": 37,
   "id": "f570d861",
   "metadata": {},
   "outputs": [
    {
     "name": "stdout",
     "output_type": "stream",
     "text": [
      "🔄 Generating embeddings for 381 texts...\n",
      "📊 Progress: 5/381 embeddings generated\n",
      "📊 Progress: 10/381 embeddings generated\n",
      "📊 Progress: 15/381 embeddings generated\n",
      "📊 Progress: 20/381 embeddings generated\n",
      "📊 Progress: 25/381 embeddings generated\n",
      "📊 Progress: 30/381 embeddings generated\n",
      "📊 Progress: 35/381 embeddings generated\n",
      "📊 Progress: 40/381 embeddings generated\n",
      "📊 Progress: 45/381 embeddings generated\n",
      "📊 Progress: 50/381 embeddings generated\n",
      "📊 Progress: 55/381 embeddings generated\n",
      "📊 Progress: 60/381 embeddings generated\n",
      "📊 Progress: 65/381 embeddings generated\n",
      "📊 Progress: 70/381 embeddings generated\n",
      "📊 Progress: 75/381 embeddings generated\n",
      "📊 Progress: 80/381 embeddings generated\n",
      "📊 Progress: 85/381 embeddings generated\n",
      "📊 Progress: 90/381 embeddings generated\n",
      "📊 Progress: 95/381 embeddings generated\n",
      "📊 Progress: 100/381 embeddings generated\n",
      "📊 Progress: 105/381 embeddings generated\n",
      "📊 Progress: 110/381 embeddings generated\n",
      "📊 Progress: 115/381 embeddings generated\n",
      "📊 Progress: 120/381 embeddings generated\n",
      "📊 Progress: 125/381 embeddings generated\n",
      "📊 Progress: 130/381 embeddings generated\n",
      "📊 Progress: 135/381 embeddings generated\n",
      "📊 Progress: 140/381 embeddings generated\n",
      "📊 Progress: 145/381 embeddings generated\n",
      "📊 Progress: 150/381 embeddings generated\n",
      "📊 Progress: 155/381 embeddings generated\n",
      "📊 Progress: 160/381 embeddings generated\n",
      "📊 Progress: 165/381 embeddings generated\n",
      "📊 Progress: 170/381 embeddings generated\n",
      "📊 Progress: 175/381 embeddings generated\n",
      "📊 Progress: 180/381 embeddings generated\n",
      "📊 Progress: 185/381 embeddings generated\n",
      "📊 Progress: 190/381 embeddings generated\n",
      "📊 Progress: 195/381 embeddings generated\n",
      "📊 Progress: 200/381 embeddings generated\n",
      "📊 Progress: 205/381 embeddings generated\n",
      "📊 Progress: 210/381 embeddings generated\n",
      "📊 Progress: 215/381 embeddings generated\n",
      "📊 Progress: 220/381 embeddings generated\n",
      "📊 Progress: 225/381 embeddings generated\n",
      "📊 Progress: 230/381 embeddings generated\n",
      "📊 Progress: 235/381 embeddings generated\n",
      "📊 Progress: 240/381 embeddings generated\n",
      "📊 Progress: 245/381 embeddings generated\n",
      "📊 Progress: 250/381 embeddings generated\n",
      "📊 Progress: 255/381 embeddings generated\n",
      "📊 Progress: 260/381 embeddings generated\n",
      "📊 Progress: 265/381 embeddings generated\n",
      "📊 Progress: 270/381 embeddings generated\n",
      "📊 Progress: 275/381 embeddings generated\n",
      "📊 Progress: 280/381 embeddings generated\n",
      "📊 Progress: 285/381 embeddings generated\n",
      "📊 Progress: 290/381 embeddings generated\n",
      "📊 Progress: 295/381 embeddings generated\n",
      "📊 Progress: 300/381 embeddings generated\n",
      "📊 Progress: 305/381 embeddings generated\n",
      "📊 Progress: 310/381 embeddings generated\n",
      "📊 Progress: 315/381 embeddings generated\n",
      "📊 Progress: 320/381 embeddings generated\n",
      "📊 Progress: 325/381 embeddings generated\n",
      "📊 Progress: 330/381 embeddings generated\n",
      "📊 Progress: 335/381 embeddings generated\n",
      "📊 Progress: 340/381 embeddings generated\n",
      "📊 Progress: 345/381 embeddings generated\n",
      "📊 Progress: 350/381 embeddings generated\n",
      "📊 Progress: 355/381 embeddings generated\n",
      "📊 Progress: 360/381 embeddings generated\n",
      "📊 Progress: 365/381 embeddings generated\n",
      "📊 Progress: 370/381 embeddings generated\n",
      "📊 Progress: 375/381 embeddings generated\n",
      "📊 Progress: 380/381 embeddings generated\n",
      "📊 Progress: 381/381 embeddings generated\n",
      "✅ All embeddings generated successfully!\n",
      "💾 Embeddings saved to hec_outline_embeddings.json\n",
      "✅ Generated 381 embeddings\n",
      "📊 Embedding dimension: 1024\n"
     ]
    }
   ],
   "source": [
    "# Create and save embeddings\n",
    "embeddings = embedding_generator.generate_embeddings_batch(chunk_texts, batch_size=5)\n",
    "embedding_generator.save_embeddings(embeddings, chunk_texts, \"hec_outline_embeddings.json\")\n",
    "\n",
    "print(f\"✅ Generated {len(embeddings)} embeddings\")\n",
    "print(f\"📊 Embedding dimension: {len(embeddings[0]) if embeddings else 'N/A'}\")"
   ]
  },
  {
   "cell_type": "code",
   "execution_count": 39,
   "id": "1c7148be",
   "metadata": {},
   "outputs": [
    {
     "name": "stdout",
     "output_type": "stream",
     "text": [
      "✅ Vector search initialized with 381 documents\n",
      "🔍 Vector search ready!\n"
     ]
    }
   ],
   "source": [
    "# Initialize vector search if embeddings exist\n",
    "if 'embeddings' in locals() and 'chunk_texts' in locals():\n",
    "    vector_search = SimpleVectorSearch(embeddings, chunk_texts)\n",
    "    print(\"🔍 Vector search ready!\")\n",
    "else:\n",
    "    print(\"⚠️ Load embeddings first to initialize vector search\")\n"
   ]
  },
  {
   "cell_type": "code",
   "execution_count": 40,
   "id": "eecc644a",
   "metadata": {},
   "outputs": [
    {
     "name": "stdout",
     "output_type": "stream",
     "text": [
      "🔍 Testing vector search...\n",
      "\n",
      "🔎 Searching for: 'computer science curriculum'\n",
      "  1. Similarity: 0.798\n",
      "     Text: . Development in Computer Science .....................................................................\n",
      "\n",
      "  2. Similarity: 0.798\n",
      "     Text: . Computer Science is the application of a systematic, disciplined and quantifiable approach to the ...\n",
      "\n",
      "  3. Similarity: 0.787\n",
      "     Text: . Master Degree Programs in Computing .................................................................\n",
      "\n",
      "\n",
      "🔎 Searching for: 'software engineering requirements'\n",
      "  1. Similarity: 0.793\n",
      "     Text: . Describe the requirements engineering process 2. Effectively analyze software requirements for the...\n",
      "\n",
      "  2. Similarity: 0.771\n",
      "     Text: . Published by IEEE Computer Society Press and McGraw-Hill Book Company, 2008 Requirements Engineeri...\n",
      "\n",
      "  3. Similarity: 0.766\n",
      "     Text: . Teaching Methodology: Lecturing, Written Assignments, Project, Report Writing Course Assessment: S...\n",
      "\n",
      "\n",
      "🔎 Searching for: 'information technology courses'\n",
      "  1. Similarity: 0.705\n",
      "     Text: . Proposed Curriculum for BS-IT .......................................................................\n",
      "\n",
      "  2. Similarity: 0.692\n",
      "     Text: , Web Services, and Software as a Service (SAAS)  Security Audit & Assessment  Socio-technical Sys...\n",
      "\n",
      "  3. Similarity: 0.689\n",
      "     Text: must be ensured while offering any of the following courses from this category) Course Title Credit ...\n",
      "\n"
     ]
    }
   ],
   "source": [
    "# Test Vector Search\n",
    "if 'vector_search' in locals() and 'embedding_generator' in locals():\n",
    "    print(\"🔍 Testing vector search...\")\n",
    "    \n",
    "    # Example search queries\n",
    "    queries = [\n",
    "        \"computer science curriculum\",\n",
    "        \"software engineering requirements\", \n",
    "        \"information technology courses\"\n",
    "    ]\n",
    "    \n",
    "    for query in queries:\n",
    "        print(f\"\\n🔎 Searching for: '{query}'\")\n",
    "        results = vector_search.search_by_text(query, embedding_generator, top_k=3)\n",
    "        \n",
    "        for i, result in enumerate(results, 1):\n",
    "            print(f\"  {i}. Similarity: {result['similarity']:.3f}\")\n",
    "            print(f\"     Text: {result['text'][:100]}...\")\n",
    "            print()\n",
    "else:\n",
    "    print(\"⚠️ Vector search not initialized. Run the previous cells first.\")\n"
   ]
  }
 ],
 "metadata": {
  "kernelspec": {
   "display_name": "stat",
   "language": "python",
   "name": "python3"
  },
  "language_info": {
   "codemirror_mode": {
    "name": "ipython",
    "version": 3
   },
   "file_extension": ".py",
   "mimetype": "text/x-python",
   "name": "python",
   "nbconvert_exporter": "python",
   "pygments_lexer": "ipython3",
   "version": "3.12.7"
  }
 },
 "nbformat": 4,
 "nbformat_minor": 5
}
