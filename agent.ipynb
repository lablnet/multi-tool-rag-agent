{
 "cells": [
  {
   "cell_type": "code",
   "execution_count": 117,
   "id": "af2577ea",
   "metadata": {},
   "outputs": [
    {
     "name": "stdout",
     "output_type": "stream",
     "text": [
      "Requirement already satisfied: langgraph in /Users/lablnet/miniconda3/envs/stat/lib/python3.12/site-packages (0.6.7)\n",
      "Requirement already satisfied: langchain-google-genai in /Users/lablnet/miniconda3/envs/stat/lib/python3.12/site-packages (2.1.10)\n",
      "Requirement already satisfied: geopy in /Users/lablnet/miniconda3/envs/stat/lib/python3.12/site-packages (2.4.1)\n",
      "Requirement already satisfied: requests in /Users/lablnet/miniconda3/envs/stat/lib/python3.12/site-packages (2.32.5)\n",
      "Requirement already satisfied: python-dotenv in /Users/lablnet/miniconda3/envs/stat/lib/python3.12/site-packages (1.1.1)\n",
      "Requirement already satisfied: langchain-core>=0.1 in /Users/lablnet/miniconda3/envs/stat/lib/python3.12/site-packages (from langgraph) (0.3.76)\n",
      "Requirement already satisfied: langgraph-checkpoint<3.0.0,>=2.1.0 in /Users/lablnet/miniconda3/envs/stat/lib/python3.12/site-packages (from langgraph) (2.1.1)\n",
      "Requirement already satisfied: langgraph-prebuilt<0.7.0,>=0.6.0 in /Users/lablnet/miniconda3/envs/stat/lib/python3.12/site-packages (from langgraph) (0.6.4)\n",
      "Requirement already satisfied: langgraph-sdk<0.3.0,>=0.2.2 in /Users/lablnet/miniconda3/envs/stat/lib/python3.12/site-packages (from langgraph) (0.2.6)\n",
      "Requirement already satisfied: pydantic>=2.7.4 in /Users/lablnet/miniconda3/envs/stat/lib/python3.12/site-packages (from langgraph) (2.11.7)\n",
      "Requirement already satisfied: xxhash>=3.5.0 in /Users/lablnet/miniconda3/envs/stat/lib/python3.12/site-packages (from langgraph) (3.5.0)\n",
      "Requirement already satisfied: filetype<2.0.0,>=1.2.0 in /Users/lablnet/miniconda3/envs/stat/lib/python3.12/site-packages (from langchain-google-genai) (1.2.0)\n",
      "Requirement already satisfied: google-ai-generativelanguage<0.7.0,>=0.6.18 in /Users/lablnet/miniconda3/envs/stat/lib/python3.12/site-packages (from langchain-google-genai) (0.6.18)\n",
      "Requirement already satisfied: geographiclib<3,>=1.52 in /Users/lablnet/miniconda3/envs/stat/lib/python3.12/site-packages (from geopy) (2.1)\n",
      "Requirement already satisfied: charset_normalizer<4,>=2 in /Users/lablnet/miniconda3/envs/stat/lib/python3.12/site-packages (from requests) (3.4.2)\n",
      "Requirement already satisfied: idna<4,>=2.5 in /Users/lablnet/miniconda3/envs/stat/lib/python3.12/site-packages (from requests) (3.10)\n",
      "Requirement already satisfied: urllib3<3,>=1.21.1 in /Users/lablnet/miniconda3/envs/stat/lib/python3.12/site-packages (from requests) (2.5.0)\n",
      "Requirement already satisfied: certifi>=2017.4.17 in /Users/lablnet/miniconda3/envs/stat/lib/python3.12/site-packages (from requests) (2025.7.14)\n",
      "Requirement already satisfied: google-api-core!=2.0.*,!=2.1.*,!=2.10.*,!=2.2.*,!=2.3.*,!=2.4.*,!=2.5.*,!=2.6.*,!=2.7.*,!=2.8.*,!=2.9.*,<3.0.0,>=1.34.1 in /Users/lablnet/miniconda3/envs/stat/lib/python3.12/site-packages (from google-api-core[grpc]!=2.0.*,!=2.1.*,!=2.10.*,!=2.2.*,!=2.3.*,!=2.4.*,!=2.5.*,!=2.6.*,!=2.7.*,!=2.8.*,!=2.9.*,<3.0.0,>=1.34.1->google-ai-generativelanguage<0.7.0,>=0.6.18->langchain-google-genai) (2.25.1)\n",
      "Requirement already satisfied: google-auth!=2.24.0,!=2.25.0,<3.0.0,>=2.14.1 in /Users/lablnet/miniconda3/envs/stat/lib/python3.12/site-packages (from google-ai-generativelanguage<0.7.0,>=0.6.18->langchain-google-genai) (2.40.3)\n",
      "Requirement already satisfied: proto-plus<2.0.0,>=1.22.3 in /Users/lablnet/miniconda3/envs/stat/lib/python3.12/site-packages (from google-ai-generativelanguage<0.7.0,>=0.6.18->langchain-google-genai) (1.26.1)\n",
      "Requirement already satisfied: protobuf!=4.21.0,!=4.21.1,!=4.21.2,!=4.21.3,!=4.21.4,!=4.21.5,<7.0.0,>=3.20.2 in /Users/lablnet/miniconda3/envs/stat/lib/python3.12/site-packages (from google-ai-generativelanguage<0.7.0,>=0.6.18->langchain-google-genai) (5.29.5)\n",
      "Requirement already satisfied: langsmith>=0.3.45 in /Users/lablnet/miniconda3/envs/stat/lib/python3.12/site-packages (from langchain-core>=0.1->langgraph) (0.4.10)\n",
      "Requirement already satisfied: tenacity!=8.4.0,<10.0.0,>=8.1.0 in /Users/lablnet/miniconda3/envs/stat/lib/python3.12/site-packages (from langchain-core>=0.1->langgraph) (9.1.2)\n",
      "Requirement already satisfied: jsonpatch<2.0,>=1.33 in /Users/lablnet/miniconda3/envs/stat/lib/python3.12/site-packages (from langchain-core>=0.1->langgraph) (1.33)\n",
      "Requirement already satisfied: PyYAML>=5.3 in /Users/lablnet/miniconda3/envs/stat/lib/python3.12/site-packages (from langchain-core>=0.1->langgraph) (6.0.2)\n",
      "Requirement already satisfied: typing-extensions>=4.7 in /Users/lablnet/miniconda3/envs/stat/lib/python3.12/site-packages (from langchain-core>=0.1->langgraph) (4.12.2)\n",
      "Requirement already satisfied: packaging>=23.2 in /Users/lablnet/miniconda3/envs/stat/lib/python3.12/site-packages (from langchain-core>=0.1->langgraph) (23.2)\n",
      "Requirement already satisfied: ormsgpack>=1.10.0 in /Users/lablnet/miniconda3/envs/stat/lib/python3.12/site-packages (from langgraph-checkpoint<3.0.0,>=2.1.0->langgraph) (1.10.0)\n",
      "Requirement already satisfied: httpx>=0.25.2 in /Users/lablnet/miniconda3/envs/stat/lib/python3.12/site-packages (from langgraph-sdk<0.3.0,>=0.2.2->langgraph) (0.28.1)\n",
      "Requirement already satisfied: orjson>=3.10.1 in /Users/lablnet/miniconda3/envs/stat/lib/python3.12/site-packages (from langgraph-sdk<0.3.0,>=0.2.2->langgraph) (3.11.1)\n",
      "Requirement already satisfied: annotated-types>=0.6.0 in /Users/lablnet/miniconda3/envs/stat/lib/python3.12/site-packages (from pydantic>=2.7.4->langgraph) (0.7.0)\n",
      "Requirement already satisfied: pydantic-core==2.33.2 in /Users/lablnet/miniconda3/envs/stat/lib/python3.12/site-packages (from pydantic>=2.7.4->langgraph) (2.33.2)\n",
      "Requirement already satisfied: typing-inspection>=0.4.0 in /Users/lablnet/miniconda3/envs/stat/lib/python3.12/site-packages (from pydantic>=2.7.4->langgraph) (0.4.1)\n",
      "Requirement already satisfied: googleapis-common-protos<2.0.0,>=1.56.2 in /Users/lablnet/miniconda3/envs/stat/lib/python3.12/site-packages (from google-api-core!=2.0.*,!=2.1.*,!=2.10.*,!=2.2.*,!=2.3.*,!=2.4.*,!=2.5.*,!=2.6.*,!=2.7.*,!=2.8.*,!=2.9.*,<3.0.0,>=1.34.1->google-api-core[grpc]!=2.0.*,!=2.1.*,!=2.10.*,!=2.2.*,!=2.3.*,!=2.4.*,!=2.5.*,!=2.6.*,!=2.7.*,!=2.8.*,!=2.9.*,<3.0.0,>=1.34.1->google-ai-generativelanguage<0.7.0,>=0.6.18->langchain-google-genai) (1.63.2)\n",
      "Requirement already satisfied: grpcio<2.0.0,>=1.33.2 in /Users/lablnet/miniconda3/envs/stat/lib/python3.12/site-packages (from google-api-core[grpc]!=2.0.*,!=2.1.*,!=2.10.*,!=2.2.*,!=2.3.*,!=2.4.*,!=2.5.*,!=2.6.*,!=2.7.*,!=2.8.*,!=2.9.*,<3.0.0,>=1.34.1->google-ai-generativelanguage<0.7.0,>=0.6.18->langchain-google-genai) (1.67.1)\n",
      "Requirement already satisfied: grpcio-status<2.0.0,>=1.33.2 in /Users/lablnet/miniconda3/envs/stat/lib/python3.12/site-packages (from google-api-core[grpc]!=2.0.*,!=2.1.*,!=2.10.*,!=2.2.*,!=2.3.*,!=2.4.*,!=2.5.*,!=2.6.*,!=2.7.*,!=2.8.*,!=2.9.*,<3.0.0,>=1.34.1->google-ai-generativelanguage<0.7.0,>=0.6.18->langchain-google-genai) (1.67.1)\n",
      "Requirement already satisfied: cachetools<6.0,>=2.0.0 in /Users/lablnet/miniconda3/envs/stat/lib/python3.12/site-packages (from google-auth!=2.24.0,!=2.25.0,<3.0.0,>=2.14.1->google-ai-generativelanguage<0.7.0,>=0.6.18->langchain-google-genai) (5.5.2)\n",
      "Requirement already satisfied: pyasn1-modules>=0.2.1 in /Users/lablnet/miniconda3/envs/stat/lib/python3.12/site-packages (from google-auth!=2.24.0,!=2.25.0,<3.0.0,>=2.14.1->google-ai-generativelanguage<0.7.0,>=0.6.18->langchain-google-genai) (0.4.1)\n",
      "Requirement already satisfied: rsa<5,>=3.1.4 in /Users/lablnet/miniconda3/envs/stat/lib/python3.12/site-packages (from google-auth!=2.24.0,!=2.25.0,<3.0.0,>=2.14.1->google-ai-generativelanguage<0.7.0,>=0.6.18->langchain-google-genai) (4.9.1)\n",
      "Requirement already satisfied: anyio in /Users/lablnet/miniconda3/envs/stat/lib/python3.12/site-packages (from httpx>=0.25.2->langgraph-sdk<0.3.0,>=0.2.2->langgraph) (4.9.0)\n",
      "Requirement already satisfied: httpcore==1.* in /Users/lablnet/miniconda3/envs/stat/lib/python3.12/site-packages (from httpx>=0.25.2->langgraph-sdk<0.3.0,>=0.2.2->langgraph) (1.0.9)\n",
      "Requirement already satisfied: h11>=0.16 in /Users/lablnet/miniconda3/envs/stat/lib/python3.12/site-packages (from httpcore==1.*->httpx>=0.25.2->langgraph-sdk<0.3.0,>=0.2.2->langgraph) (0.16.0)\n",
      "Requirement already satisfied: jsonpointer>=1.9 in /Users/lablnet/miniconda3/envs/stat/lib/python3.12/site-packages (from jsonpatch<2.0,>=1.33->langchain-core>=0.1->langgraph) (3.0.0)\n",
      "Requirement already satisfied: requests-toolbelt>=1.0.0 in /Users/lablnet/miniconda3/envs/stat/lib/python3.12/site-packages (from langsmith>=0.3.45->langchain-core>=0.1->langgraph) (1.0.0)\n",
      "Requirement already satisfied: zstandard>=0.23.0 in /Users/lablnet/miniconda3/envs/stat/lib/python3.12/site-packages (from langsmith>=0.3.45->langchain-core>=0.1->langgraph) (0.23.0)\n",
      "Requirement already satisfied: pyasn1<0.7.0,>=0.4.6 in /Users/lablnet/miniconda3/envs/stat/lib/python3.12/site-packages (from pyasn1-modules>=0.2.1->google-auth!=2.24.0,!=2.25.0,<3.0.0,>=2.14.1->google-ai-generativelanguage<0.7.0,>=0.6.18->langchain-google-genai) (0.4.8)\n",
      "Requirement already satisfied: sniffio>=1.1 in /Users/lablnet/miniconda3/envs/stat/lib/python3.12/site-packages (from anyio->httpx>=0.25.2->langgraph-sdk<0.3.0,>=0.2.2->langgraph) (1.3.1)\n",
      "Note: you may need to restart the kernel to use updated packages.\n"
     ]
    }
   ],
   "source": [
    "%pip install -U langgraph langchain-google-genai geopy requests python-dotenv"
   ]
  },
  {
   "cell_type": "code",
   "execution_count": null,
   "id": "5e0bddeb",
   "metadata": {},
   "outputs": [],
   "source": [
    "\n",
    "# Imports\n",
    "from langgraph.prebuilt import create_react_agent\n",
    "from langgraph.checkpoint.memory import InMemorySaver\n",
    "from langgraph.graph import StateGraph\n",
    "from langchain_core.prompts import ChatPromptTemplate\n",
    "from langchain_google_genai import ChatGoogleGenerativeAI\n",
    "import geopy\n",
    "from geopy.geocoders import Nominatim\n",
    "import requests"
   ]
  },
  {
   "cell_type": "code",
   "execution_count": 85,
   "id": "a86ecc4f",
   "metadata": {},
   "outputs": [],
   "source": [
    "from rag import OllamaEmbeddingGenerator, SimpleVectorSearch"
   ]
  },
  {
   "cell_type": "code",
   "execution_count": 95,
   "id": "3c2b677e",
   "metadata": {},
   "outputs": [
    {
     "data": {
      "text/plain": [
       "True"
      ]
     },
     "execution_count": 95,
     "metadata": {},
     "output_type": "execute_result"
    }
   ],
   "source": [
    "import os\n",
    "from dotenv import load_dotenv\n",
    "\n",
    "# Load environment variables from .env file\n",
    "load_dotenv()"
   ]
  },
  {
   "cell_type": "code",
   "execution_count": 98,
   "id": "3c942acd",
   "metadata": {},
   "outputs": [],
   "source": [
    "api_key = os.getenv(\"GEMINI_API_KEY\")"
   ]
  },
  {
   "cell_type": "code",
   "execution_count": 99,
   "id": "b2f85e2b",
   "metadata": {},
   "outputs": [],
   "source": [
    "def create_llm(model: str = \"gemini-2.5-flash\", temperature: float = 1.0, max_retries: int = 2):\n",
    "    \"\"\"\n",
    "    Create a LLM class\n",
    "    \n",
    "    Args:\n",
    "        model: The model to use\n",
    "        temperature: The temperature to use\n",
    "        max_retries: The maximum number of retries\n",
    "    \n",
    "    Returns:\n",
    "        A LLM class\n",
    "    \"\"\"\n",
    "    return ChatGoogleGenerativeAI(\n",
    "        model= model,\n",
    "        temperature=temperature,\n",
    "        max_retries=max_retries,\n",
    "        google_api_key=api_key,\n",
    "    )"
   ]
  },
  {
   "cell_type": "code",
   "execution_count": 100,
   "id": "e4b08bf3",
   "metadata": {},
   "outputs": [
    {
     "name": "stdout",
     "output_type": "stream",
     "text": [
      "📂 Embeddings loaded from hec_outline_embeddings.json\n",
      "✅ Vector search initialized with 381 documents\n",
      "🔍 Vector search initialized!\n"
     ]
    }
   ],
   "source": [
    "embeddings = OllamaEmbeddingGenerator().load_embeddings(\"hec_outline_embeddings.json\")\n",
    "\n",
    "vector_search = SimpleVectorSearch(embeddings['embeddings'], embeddings['texts'])\n",
    "print(\"🔍 Vector search initialized!\")"
   ]
  },
  {
   "cell_type": "code",
   "execution_count": 101,
   "id": "9776c0b7",
   "metadata": {},
   "outputs": [],
   "source": [
    "# Initialize geolocator\n",
    "geolocator = Nominatim(user_agent=\"multi_agent\")\n",
    "\n",
    "# ============================================================================\n",
    "# TOOL 1: WEATHER TOOL\n",
    "# ============================================================================\n",
    "def get_weather(location: str):\n",
    "    \"\"\"\n",
    "    Get the current weather for a location\n",
    "    \"\"\"\n",
    "    try:\n",
    "        # Get the location coordinates\n",
    "        location_obj = geolocator.geocode(location)\n",
    "        if not location_obj:\n",
    "            return f\"Location '{location}' not found\"\n",
    "        \n",
    "        response = requests.get(f\"https://api.open-meteo.com/v1/forecast?latitude={location_obj.latitude}&longitude={location_obj.longitude}&current_weather=true\")\n",
    "        data = response.json()\n",
    "        weather = data[\"current_weather\"]\n",
    "        return weather\n",
    "    except Exception as e:\n",
    "        return f\"Error getting weather: {e}\"\n",
    "\n",
    "# ============================================================================\n",
    "# TOOL 6: CRYPTOCURRENCY TOOL\n",
    "# ============================================================================\n",
    "def get_crypto_price(symbol: str = \"bitcoin\"):\n",
    "    \"\"\"\n",
    "    Get current cryptocurrency price\n",
    "    Common symbols: bitcoin, ethereum, litecoin, dogecoin, etc.\n",
    "    \"\"\"\n",
    "    try:\n",
    "        # Using CoinGecko API (free)\n",
    "        symbol = symbol.lower()\n",
    "        response = requests.get(f\"https://api.coingecko.com/api/v3/simple/price?ids={symbol}&vs_currencies=usd\")\n",
    "        if response.status_code == 200:\n",
    "            data = response.json()\n",
    "            if symbol in data:\n",
    "                return {\n",
    "                    \"cryptocurrency\": symbol.title(),\n",
    "                    \"price_usd\": data[symbol][\"usd\"],\n",
    "                    \"timestamp\": \"current\"\n",
    "                }\n",
    "            else:\n",
    "                return f\"Cryptocurrency '{symbol}' not found\"\n",
    "        else:\n",
    "            return f\"Failed to get crypto price: HTTP {response.status_code}\"\n",
    "    except Exception as e:\n",
    "        return f\"Error getting crypto price: {e}\"\n",
    "\n",
    "def search_in_knowledge_base(query: str):\n",
    "    \"\"\"\n",
    "    Search the knowledge base for the query\n",
    "    \"\"\"\n",
    "    embedding_generator = OllamaEmbeddingGenerator()\n",
    "    return vector_search.search_by_text(query, embedding_generator, top_k=5)"
   ]
  },
  {
   "cell_type": "code",
   "execution_count": 102,
   "id": "ba7e5a9d",
   "metadata": {},
   "outputs": [],
   "source": [
    "# System prompt\n",
    "system_prompt = \"\"\"\n",
    "You are a multi-purpose assistant agent with access to various tools. You can help with:\n",
    "\n",
    "1. 🌤️ WEATHER: Get current weather for any location\n",
    "2. 💰 CRYPTO: Get current cryptocurrency prices\n",
    "3. 📚 KNOWLEDGE BASE: Search the knowledge base for the query this tool is capable of searching related to course outline of Pakistan Universities.\n",
    "\n",
    "Use the appropriate tool based on what the user is asking for. Be helpful and provide clear, formatted responses.\n",
    "\"\"\""
   ]
  },
  {
   "cell_type": "code",
   "execution_count": null,
   "id": "4ecb2348",
   "metadata": {},
   "outputs": [],
   "source": [
    "\n",
    "# Create the multi-tool agent\n",
    "all_tools = [\n",
    "    get_weather,\n",
    "    get_crypto_price,\n",
    "    search_in_knowledge_base,\n",
    "]\n",
    "\n",
    "agent = create_react_agent(\n",
    "    model=create_llm(),\n",
    "    tools=all_tools,\n",
    "    prompt=system_prompt\n",
    ")"
   ]
  },
  {
   "cell_type": "code",
   "execution_count": 121,
   "id": "5a223679",
   "metadata": {},
   "outputs": [
    {
     "data": {
      "image/png": "[encoded data removed]",
      "text/plain": [
       "<IPython.core.display.Image object>"
      ]
     },
     "execution_count": 121,
     "metadata": {},
     "output_type": "execute_result"
    }
   ],
   "source": [
    "from IPython.display import Image\n",
    "\n",
    "# Compile the state graph\n",
    "graph = agent\n",
    "Image(graph.get_graph().draw_mermaid_png())"
   ]
  },
  {
   "cell_type": "code",
   "execution_count": 126,
   "id": "56271bab",
   "metadata": {},
   "outputs": [],
   "source": [
    "import networkx as nx\n",
    "import matplotlib.pyplot as plt\n",
    "from IPython.display import Image, display\n",
    "\n",
    "def draw_invocation_graph(path, filename=\"invocation.png\"):\n",
    "    \"\"\"\n",
    "    Draw a directed graph showing the actual path taken by the agent.\n",
    "    \n",
    "    Args:\n",
    "        path: The path taken by the agent\n",
    "        filename: The filename to save the image\n",
    "    \"\"\"\n",
    "    G = nx.DiGraph()\n",
    "    \n",
    "    # Add edges for each consecutive step\n",
    "    for i in range(len(path)-1):\n",
    "        G.add_edge(path[i], path[i+1])\n",
    "    \n",
    "    plt.figure(figsize=(8,5))\n",
    "    pos = nx.spring_layout(G, seed=42)\n",
    "    nx.draw(\n",
    "        G, pos, with_labels=True, node_size=2500, node_color=\"lightgreen\", \n",
    "        arrows=True, font_size=10, font_weight=\"bold\"\n",
    "    )\n",
    "    plt.title(\"Agent Invocation Path\", fontsize=14)\n",
    "    plt.show()"
   ]
  },
  {
   "cell_type": "code",
   "execution_count": 128,
   "id": "0e5e51e8",
   "metadata": {},
   "outputs": [],
   "source": [
    "def stream_conversation(agent, user_message):\n",
    "    \"\"\"\n",
    "    Stream the conversation with the agent\n",
    "    \n",
    "    Args:\n",
    "        agent: The agent to use\n",
    "        user_message: The message to send to the agent\n",
    "        \n",
    "    Returns:\n",
    "        None\n",
    "    \"\"\"\n",
    "    path = [\"User\", \"Agent\"]\n",
    "    \n",
    "    print(\"=\" * 70)\n",
    "    print(\"🎬 MULTI-TOOL AGENT - REAL CONVERSATION\")\n",
    "    print(\"=\" * 70)\n",
    "    \n",
    "    print(f\"\\n👤 USER:\")\n",
    "    print(f\"   {user_message}\")\n",
    "    \n",
    "    result = agent.invoke({\"messages\": [(\"user\", user_message)]})\n",
    "    \n",
    "    for message in result[\"messages\"]:\n",
    "        if message.__class__.__name__ == 'AIMessage':\n",
    "            if hasattr(message, 'tool_calls') and message.tool_calls:\n",
    "                for tool_call in message.tool_calls:\n",
    "                    tool_name = tool_call['name']\n",
    "                    print(f\"🔧 Calling tool: {tool_name} with {tool_call['args']}\")\n",
    "                    \n",
    "                    # Add tool node to path\n",
    "                    path.append(tool_name)\n",
    "                    path.append(\"Agent\")\n",
    "            elif message.content:\n",
    "                print(f\"\\n🤖 AI: {message.content}\")\n",
    "                path.append(\"User\")\n",
    "        elif message.__class__.__name__ == 'ToolMessage':\n",
    "            print(f\"🔧 TOOL RESPONSE: {message.content}\")\n",
    "    \n",
    "    print(\"=\" * 70)\n",
    "    print(\"✅ CONVERSATION COMPLETE\")\n",
    "    print(\"=\" * 70)\n",
    "    \n",
    "    # Draw the invocation path as graph\n",
    "    draw_invocation_graph(path)"
   ]
  },
  {
   "cell_type": "code",
   "execution_count": null,
   "id": "d4f56627",
   "metadata": {},
   "outputs": [
    {
     "name": "stdout",
     "output_type": "stream",
     "text": [
      "======================================================================\n",
      "🎬 MULTI-TOOL AGENT - REAL CONVERSATION\n",
      "======================================================================\n",
      "\n",
      "👤 USER:\n",
      "   What's the weather in Islamabad?\n",
      "🔧 Calling tool: get_weather with {'location': 'Islamabad'}\n",
      "🔧 TOOL RESPONSE: {\"time\": \"2025-09-15T10:15\", \"interval\": 900, \"temperature\": 34.5, \"windspeed\": 7.7, \"winddirection\": 221, \"is_day\": 1, \"weathercode\": 2}\n",
      "\n",
      "🤖 AI: The current weather in Islamabad is 34.5°C with a wind speed of 7.7 km/h and wind direction of 221°. It's currently day time.\n",
      "======================================================================\n",
      "✅ CONVERSATION COMPLETE\n",
      "======================================================================\n"
     ]
    },
    {
     "data": {
      "image/png": "[encoded data removed]",
      "text/plain": [
       "<Figure size 800x500 with 1 Axes>"
      ]
     },
     "metadata": {},
     "output_type": "display_data"
    }
   ],
   "source": [
    "stream_conversation(agent, \"What's the weather in Islamabad?\")"
   ]
  },
  {
   "cell_type": "code",
   "execution_count": 130,
   "id": "0f62d55b",
   "metadata": {},
   "outputs": [
    {
     "name": "stdout",
     "output_type": "stream",
     "text": [
      "======================================================================\n",
      "🎬 MULTI-TOOL AGENT - REAL CONVERSATION\n",
      "======================================================================\n",
      "\n",
      "👤 USER:\n",
      "   What's the price of Etherium?\n",
      "🔧 Calling tool: get_crypto_price with {'symbol': 'ethereum'}\n",
      "🔧 TOOL RESPONSE: {\"cryptocurrency\": \"Ethereum\", \"price_usd\": 4520.39, \"timestamp\": \"current\"}\n",
      "\n",
      "🤖 AI: The current price of Ethereum is $4520.39.\n",
      "======================================================================\n",
      "✅ CONVERSATION COMPLETE\n",
      "======================================================================\n"
     ]
    },
    {
     "data": {
      "image/png": "[encoded data removed]",
      "text/plain": [
       "<Figure size 800x500 with 1 Axes>"
      ]
     },
     "metadata": {},
     "output_type": "display_data"
    }
   ],
   "source": [
    "stream_conversation(agent, \"What's the price of Etherium?\")"
   ]
  },
  {
   "cell_type": "code",
   "execution_count": 131,
   "id": "63e1efc0",
   "metadata": {},
   "outputs": [
    {
     "name": "stdout",
     "output_type": "stream",
     "text": [
      "======================================================================\n",
      "🎬 MULTI-TOOL AGENT - REAL CONVERSATION\n",
      "======================================================================\n",
      "\n",
      "👤 USER:\n",
      "   What is the pre-requisite for MSCS?\n",
      "🔧 Calling tool: search_in_knowledge_base with {'query': 'What is the pre-requisite for MSCS?'}\n",
      "🔧 TOOL RESPONSE: [{'text': '. The purpose is to indicate pre-requisite courses for studying advanced courses', 'similarity': 0.683333909486627, 'index': 51}, {'text': '. Students will be able to think creatively and critically; to solve non-trivial problems 3. Students will be able to use computing knowledge to develop efficient solutions for real life problems 4. Students will be able to design solutions and can conduct research related activities Eligibility: Degree in relevant subject, earned from a recognized university after 16 years of education with at least 60% marks or CGPA of at least 2.0 (on a scale of 4.0). The following core courses are recommended to be completed before entering the MS (CS) program. 1. Analysis of Algorithms 2. Assembly Lang. / Computer Architecture 3. Computer Networks 4. Computer Programming 5. Data Structures 6. Database Systems 7. Operating Systems 8. Software Engineering 9. Theory of Automata A student selected for admission having deficiency in the above stated courses may be required to study a maximum of FOUR courses, which must be passed in the first two semesters', 'similarity': 0.6765399729626608, 'index': 71}, {'text': '. 5. Prepare students to join an appropriate and respectable level position in a computing-related field, and to maintain their professional skills in rapidly evolving field. Eligibility Criteria: The minimum requirements for admission in a Master degree program are: Sixteen years education in a relevant subject with a minimum CGPA of 2.0 (on a scale of 4.0). Note: The university may recommend deficiency courses, after considering the educational background and knowledge of the candidate. Duration Minimum duration for completion of MS degree is two years. HEC allows a maximum period of four years to complete MS degree requirements. Degree Completion Requirements To become eligible for award of MS degree, a student must satisfy the following requirements: a) Must have earned CGPA (Cumulative Grade Point Average) of at least 2.5 on a scale of 4.0. b) o Must have studied and passed the prescribed courses, totaling at least 30 credit hours', 'similarity': 0.6619203566095462, 'index': 99}, {'text': '. Master Degree Programs in Computing Computer Science (MS-CS) Data Science (MS-DS) Information Security (MS-IS) Information Technology (MS-IT) Software Engineering (MS-SE) Software Project Management (MS-SPM) Eligibility Criteria The minimum requirements for admission in a Master degree program are a. A degree earned after sixteen years of education in computing or a related discipline, AND b. At least CGPA of 2.0 (on a scale of 4.0) or 60% Marks Duration The minimum duration for completion of MS degree is two years. The HEC allows a maximum period of four years to complete MS degree requirements. Degree Completion Requirements To become eligible for award of MS degree, a student must satisfy the following requirements: c) Must have studied and passed the prescribed courses, totaling at least 30 credit hours. d) Must have earned CGPA (Cumulative Grade Point Average) of at least 2.5 on a scale of 4.0', 'similarity': 0.6483503987747312, 'index': 69}, {'text': '. d) Must have earned CGPA (Cumulative Grade Point Average) of at least 2.5 on a scale of 4.0. 43 MS Computer Science 44 Program Objectives: The MS (Computer Science) comprises of both course work as well as research component. There are four ‘core courses’ aimed at strengthening the understanding and competence of students in computer science fundamentals. The University expects its MS graduates to pursue careers either as ‘Computer Science Faculty Members’ or as ‘Software Development Managers’ in the industry. Learning Outcomes: 1. Students will be able to possess advanced knowledge of Computer Science field 2. Students will be able to think creatively and critically; to solve non-trivial problems 3. Students will be able to use computing knowledge to develop efficient solutions for real life problems 4', 'similarity': 0.6473792306012793, 'index': 70}]\n",
      "\n",
      "🤖 AI: To be eligible for an MS (CS) program, you need:\n",
      "\n",
      "*   A degree in a relevant subject from a recognized university after 16 years of education with at least 60% marks or a CGPA of at least 2.0 (on a scale of 4.0).\n",
      "\n",
      "It is recommended to have completed the following core courses before entering the program:\n",
      "\n",
      "1.  Analysis of Algorithms\n",
      "2.  Assembly Language / Computer Architecture\n",
      "3.  Computer Networks\n",
      "4.  Computer Programming\n",
      "5.  Data Structures\n",
      "6.  Database Systems\n",
      "7.  Operating Systems\n",
      "8.  Software Engineering\n",
      "9.  Theory of Automata\n",
      "\n",
      "If you have deficiencies in these courses, you may be required to study a maximum of FOUR such courses, which must be passed in the first two semesters.\n",
      "======================================================================\n",
      "✅ CONVERSATION COMPLETE\n",
      "======================================================================\n"
     ]
    },
    {
     "data": {
      "image/png": "[encoded data removed]",
      "text/plain": [
       "<Figure size 800x500 with 1 Axes>"
      ]
     },
     "metadata": {},
     "output_type": "display_data"
    }
   ],
   "source": [
    "stream_conversation(agent, \"What is the pre-requisite for MSCS?\")"
   ]
  }
 ],
 "metadata": {
  "kernelspec": {
   "display_name": "stat",
   "language": "python",
   "name": "python3"
  },
  "language_info": {
   "codemirror_mode": {
    "name": "ipython",
    "version": 3
   },
   "file_extension": ".py",
   "mimetype": "text/x-python",
   "name": "python",
   "nbconvert_exporter": "python",
   "pygments_lexer": "ipython3",
   "version": "3.12.7"
  }
 },
 "nbformat": 4,
 "nbformat_minor": 5
}
